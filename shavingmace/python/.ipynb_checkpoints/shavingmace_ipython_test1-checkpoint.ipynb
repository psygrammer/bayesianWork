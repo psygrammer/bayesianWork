{
 "metadata": {
  "name": "",
  "signature": "sha256:b1eb2e43c4d0f6852f4cddc847cc9021abe1cb242d54a0a5b465b793f5f9770a"
 },
 "nbformat": 3,
 "nbformat_minor": 0,
 "worksheets": [
  {
   "cells": [
    {
     "cell_type": "code",
     "collapsed": false,
     "input": [
      "print 'Hello, world!'"
     ],
     "language": "python",
     "metadata": {},
     "outputs": []
    }
   ],
   "metadata": {}
  }
 ]
}