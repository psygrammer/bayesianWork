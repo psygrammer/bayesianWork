{
 "metadata": {
  "name": "",
  "signature": "sha256:b183de77d31144ccd2329c483622b761766d6743b671ca2c887bdd160d5e04f6"
 },
 "nbformat": 3,
 "nbformat_minor": 0,
 "worksheets": [
  {
   "cells": [
    {
     "cell_type": "markdown",
     "metadata": {},
     "source": [
      "\ubca0\uc774\uc9c0\uc548 \ud30c\uc774\uc36c \ud2b8\ub799 2\ud68c \uc5f0\uc2b5\ubb38\uc81c \ud480\uc774\n",
      "\n",
      "[\ubb38\uc11c \uc815\ub9ac \uc624\ub958 \ubb38\uc81c](http://nbviewer.ipython.org/github/psygrammer/bayesianPy/blob/master/ch02_ex/ch02_ex_prb.ipynb)"
     ]
    },
    {
     "cell_type": "code",
     "collapsed": false,
     "input": [
      "# utils\n",
      "\n",
      "def find_who(probs):\n",
      "    \"\"\"\n",
      "    \uc8fc\uc5b4\uc9c4 \uc5d0\ub7ec \ud655\ub960 \ub515\uc154\ub108\ub9ac\uc5d0\uc11c \uac00\uc7a5 \ub192\uc740 \ud655\ub960\uc744 \uac00\uc9c4 \uc0ac\ub78c\uc744 \ucc3e\ub294\ub2e4.\n",
      "    input  => {\"Person_1\": 0.3, \"Person_2: 0.15, \"Person_3: 0.01}\n",
      "    output => \"Person_1\"\n",
      "    \"\"\"\n",
      "    return max(probs.iterkeys(), key=lambda k: probs[k])\n",
      "\n",
      "def normalize(probs):\n",
      "    \"\"\"\n",
      "    \uc8fc\uc5b4\uc9c4 \uc5d0\ub7ec \ud655\ub960\uac12\uc5d0 \ub300\ud574\uc11c \ucd1d\ud569\uc774 1\uc774 \ub418\ub3c4\ub85d \uc218\uc815\ud55c\ub2e4.\n",
      "    input  => {\"Person_1\": 0.3, \"Person_2: 0.2, \"Person_3: 0.1}\n",
      "    output => {\"Person_1\": 0.5, \"Person_2: 0.3333, \"Person_3\": 0.1666}\n",
      "    \"\"\"\n",
      "    total = sum(probs.itervalues())\n",
      "    return dict([(who, prob / total) for who, prob in probs.iteritems()])\n",
      "\n",
      "def calc_posterior(priors, likelihood):\n",
      "    \"\"\" \n",
      "    prior \uc5d0 likelihood \ub97c \uc801\uc6a9\ud574\uc11c posterior \ub97c \uad6c\ud55c\ub2e4.\n",
      "    \"\"\"\n",
      "    posterior = {}\n",
      "    for who, prob in priors.iteritems():\n",
      "        posterior[who] = prob * likelihood[who]\n",
      "    a = normalize(posterior)\n",
      "    print a\n",
      "    return a"
     ],
     "language": "python",
     "metadata": {},
     "outputs": [],
     "prompt_number": 1
    },
    {
     "cell_type": "markdown",
     "metadata": {},
     "source": [
      "\uccab\ubc88\uc9f8 \uac00\uc815.\n",
      "\n",
      "\ubb38\uc11c\ud558\ub098\ub2f9 \uc2e4\uc218\ud560 \ud655\ub960\uc774 \ubaa8\ub450 \uac19\ub2e4\uace0 \ud558\uba74, \uc791\uc5c5\ub7c9 = \uc5d0\ub7ec\ub960 \ube44\ub840\ud55c\ub2e4."
     ]
    },
    {
     "cell_type": "code",
     "collapsed": false,
     "input": [
      "workloads = {\"M\": 0.6,\n",
      "             \"L\": 0.3,\n",
      "             \"C\": 0.1,}\n",
      "\n",
      "from copy import deepcopy\n",
      "priors = deepcopy(workloads)"
     ],
     "language": "python",
     "metadata": {},
     "outputs": [],
     "prompt_number": 2
    },
    {
     "cell_type": "code",
     "collapsed": false,
     "input": [
      "print priors\n",
      "who = find_who(priors)\n",
      "who"
     ],
     "language": "python",
     "metadata": {},
     "outputs": [
      {
       "output_type": "stream",
       "stream": "stdout",
       "text": [
        "{'C': 0.1, 'M': 0.6, 'L': 0.3}\n"
       ]
      },
      {
       "metadata": {},
       "output_type": "pyout",
       "prompt_number": 3,
       "text": [
        "'M'"
       ]
      }
     ],
     "prompt_number": 3
    },
    {
     "cell_type": "markdown",
     "metadata": {},
     "source": [
      "\uadf8\ub7ec\uc790, M \uc740 \ubb38\uc81c\uc810\uc744 \uc5b8\uae09\ud55c\ub2e4.\n",
      "\n",
      "\uc624\ub958 \ud655\ub960\uc774 \ubaa8\ub450 \uac19\uc9c0 \uc54a\uace0, \uc790\uae30\uac00 \uac00\uc7a5 \ub0ae\ub2e4\uace0 \ub9d0\ud55c\ub2e4."
     ]
    },
    {
     "cell_type": "code",
     "collapsed": false,
     "input": [
      "# new DATA\n",
      "misfile_rates = {\"M\": 0.003,\n",
      "                 \"L\": 0.007,\n",
      "                 \"C\": 0.01,\n",
      "                 }\n",
      "\n",
      "who_2 = find_who(misfile_rates)\n",
      "who_2"
     ],
     "language": "python",
     "metadata": {},
     "outputs": [
      {
       "metadata": {},
       "output_type": "pyout",
       "prompt_number": 4,
       "text": [
        "'C'"
       ]
      }
     ],
     "prompt_number": 4
    },
    {
     "cell_type": "markdown",
     "metadata": {},
     "source": [
      "\uc5d0\ub7ec \ud655\ub960\uc774 \uac00\uc7a5 \ub192\uc740 \uc0ac\ub78c\uc740 C \uc600\ub2e4.\n",
      "\n",
      "\uadf8\ub7ec\uc790, \ub610, C \uac00 \ubc18\ubc15\ud558\uae30\uc5d0, \uc2e4\uc81c\ub85c \uc790\uae30\uac00 \uc791\uc5c5\ud55c \uc804\uccb4 \uc591\uc740 \ub9ce\uc9c0 \uc54a\uc544\uc11c \n",
      "\n",
      "\uc2e4\uc81c \ubb38\uc11c \uc2e4\uc218\ud55c \uac2f\uc218\uac00 \ub9ce\uc9c0 \uc54a\ub2e4\uace0 \ub9d0\ud55c\ub2e4.\n",
      "\n",
      "**\uc791\uc5c5\ub7c9 workloads** \uacfc **\uc5d0\ub7ec\ud655\ub960 misfile-rates** \uc744 \ud3ec\ud568\ud574\uc11c \uacc4\uc0b0\ud574\uc57c \ud55c\ub2e4\uace0 \uc8fc\uc7a5\ud55c\ub2e4."
     ]
    },
    {
     "cell_type": "code",
     "collapsed": false,
     "input": [
      "misfile_rates = {\"M\": 0.003,\n",
      "                 \"L\": 0.007,\n",
      "                 \"C\": 0.01,}\n",
      "\n",
      "posteriors = calc_posterior(priors, misfile_rates)"
     ],
     "language": "python",
     "metadata": {},
     "outputs": [
      {
       "ename": "TypeError",
       "evalue": "unsupported operand type(s) for /: 'float' and 'dictionary-valueiterator'",
       "output_type": "pyerr",
       "traceback": [
        "\u001b[0;31m---------------------------------------------------------------------------\u001b[0m\n\u001b[0;31mTypeError\u001b[0m                                 Traceback (most recent call last)",
        "\u001b[0;32m<ipython-input-5-3bd10a7196bb>\u001b[0m in \u001b[0;36m<module>\u001b[0;34m()\u001b[0m\n\u001b[1;32m      3\u001b[0m                  \"C\": 0.01,}\n\u001b[1;32m      4\u001b[0m \u001b[0;34m\u001b[0m\u001b[0m\n\u001b[0;32m----> 5\u001b[0;31m \u001b[0mposteriors\u001b[0m \u001b[0;34m=\u001b[0m \u001b[0mcalc_posterior\u001b[0m\u001b[0;34m(\u001b[0m\u001b[0mpriors\u001b[0m\u001b[0;34m,\u001b[0m \u001b[0mmisfile_rates\u001b[0m\u001b[0;34m)\u001b[0m\u001b[0;34m\u001b[0m\u001b[0m\n\u001b[0m",
        "\u001b[0;32m<ipython-input-1-309bec1010fa>\u001b[0m in \u001b[0;36mcalc_posterior\u001b[0;34m(priors, likelihood)\u001b[0m\n\u001b[1;32m     25\u001b[0m     \u001b[0;32mfor\u001b[0m \u001b[0mwho\u001b[0m\u001b[0;34m,\u001b[0m \u001b[0mprob\u001b[0m \u001b[0;32min\u001b[0m \u001b[0mpriors\u001b[0m\u001b[0;34m.\u001b[0m\u001b[0miteritems\u001b[0m\u001b[0;34m(\u001b[0m\u001b[0;34m)\u001b[0m\u001b[0;34m:\u001b[0m\u001b[0;34m\u001b[0m\u001b[0m\n\u001b[1;32m     26\u001b[0m         \u001b[0mposterior\u001b[0m\u001b[0;34m[\u001b[0m\u001b[0mwho\u001b[0m\u001b[0;34m]\u001b[0m \u001b[0;34m=\u001b[0m \u001b[0mprob\u001b[0m \u001b[0;34m*\u001b[0m \u001b[0mlikelihood\u001b[0m\u001b[0;34m[\u001b[0m\u001b[0mwho\u001b[0m\u001b[0;34m]\u001b[0m\u001b[0;34m\u001b[0m\u001b[0m\n\u001b[0;32m---> 27\u001b[0;31m     \u001b[0ma\u001b[0m \u001b[0;34m=\u001b[0m \u001b[0mnormalize\u001b[0m\u001b[0;34m(\u001b[0m\u001b[0mposterior\u001b[0m\u001b[0;34m)\u001b[0m\u001b[0;34m\u001b[0m\u001b[0m\n\u001b[0m\u001b[1;32m     28\u001b[0m     \u001b[0;32mprint\u001b[0m \u001b[0ma\u001b[0m\u001b[0;34m\u001b[0m\u001b[0m\n\u001b[1;32m     29\u001b[0m     \u001b[0;32mreturn\u001b[0m \u001b[0ma\u001b[0m\u001b[0;34m\u001b[0m\u001b[0m\n",
        "\u001b[0;32m<ipython-input-1-309bec1010fa>\u001b[0m in \u001b[0;36mnormalize\u001b[0;34m(probs)\u001b[0m\n\u001b[1;32m     16\u001b[0m     \"\"\"\n\u001b[1;32m     17\u001b[0m     \u001b[0mtotal\u001b[0m \u001b[0;34m=\u001b[0m \u001b[0msum\u001b[0m\u001b[0;34m(\u001b[0m\u001b[0mprobs\u001b[0m\u001b[0;34m.\u001b[0m\u001b[0mitervalues\u001b[0m\u001b[0;34m(\u001b[0m\u001b[0;34m)\u001b[0m\u001b[0;34m)\u001b[0m\u001b[0;34m\u001b[0m\u001b[0m\n\u001b[0;32m---> 18\u001b[0;31m     \u001b[0;32mreturn\u001b[0m \u001b[0mdict\u001b[0m\u001b[0;34m(\u001b[0m\u001b[0;34m[\u001b[0m\u001b[0;34m(\u001b[0m\u001b[0mwho\u001b[0m\u001b[0;34m,\u001b[0m \u001b[0mprob\u001b[0m \u001b[0;34m/\u001b[0m \u001b[0mtotal\u001b[0m\u001b[0;34m)\u001b[0m \u001b[0;32mfor\u001b[0m \u001b[0mwho\u001b[0m\u001b[0;34m,\u001b[0m \u001b[0mprob\u001b[0m \u001b[0;32min\u001b[0m \u001b[0mprobs\u001b[0m\u001b[0;34m.\u001b[0m\u001b[0miteritems\u001b[0m\u001b[0;34m(\u001b[0m\u001b[0;34m)\u001b[0m\u001b[0;34m]\u001b[0m\u001b[0;34m)\u001b[0m\u001b[0;34m\u001b[0m\u001b[0m\n\u001b[0m\u001b[1;32m     19\u001b[0m \u001b[0;34m\u001b[0m\u001b[0m\n\u001b[1;32m     20\u001b[0m \u001b[0;32mdef\u001b[0m \u001b[0mcalc_posterior\u001b[0m\u001b[0;34m(\u001b[0m\u001b[0mpriors\u001b[0m\u001b[0;34m,\u001b[0m \u001b[0mlikelihood\u001b[0m\u001b[0;34m)\u001b[0m\u001b[0;34m:\u001b[0m\u001b[0;34m\u001b[0m\u001b[0m\n",
        "\u001b[0;31mTypeError\u001b[0m: unsupported operand type(s) for /: 'float' and 'dictionary-valueiterator'"
       ]
      }
     ],
     "prompt_number": 5
    },
    {
     "cell_type": "code",
     "collapsed": false,
     "input": [
      "print posteriors\n",
      "who_3 = find_who(posteriors)\n",
      "who_3"
     ],
     "language": "python",
     "metadata": {},
     "outputs": [
      {
       "output_type": "stream",
       "stream": "stdout",
       "text": [
        "<generator object normalize at 0x10a6d5e60>\n"
       ]
      },
      {
       "ename": "AttributeError",
       "evalue": "'generator' object has no attribute 'iterkeys'",
       "output_type": "pyerr",
       "traceback": [
        "\u001b[0;31m---------------------------------------------------------------------------\u001b[0m\n\u001b[0;31mAttributeError\u001b[0m                            Traceback (most recent call last)",
        "\u001b[0;32m<ipython-input-61-79f652b86ee1>\u001b[0m in \u001b[0;36m<module>\u001b[0;34m()\u001b[0m\n\u001b[1;32m      1\u001b[0m \u001b[0;32mprint\u001b[0m \u001b[0mposteriors\u001b[0m\u001b[0;34m\u001b[0m\u001b[0m\n\u001b[0;32m----> 2\u001b[0;31m \u001b[0mwho_3\u001b[0m \u001b[0;34m=\u001b[0m \u001b[0mfind_who\u001b[0m\u001b[0;34m(\u001b[0m\u001b[0mposteriors\u001b[0m\u001b[0;34m)\u001b[0m\u001b[0;34m\u001b[0m\u001b[0m\n\u001b[0m\u001b[1;32m      3\u001b[0m \u001b[0mwho_3\u001b[0m\u001b[0;34m\u001b[0m\u001b[0m\n",
        "\u001b[0;32m<ipython-input-51-62119e8dca6d>\u001b[0m in \u001b[0;36mfind_who\u001b[0;34m(probs)\u001b[0m\n\u001b[1;32m      7\u001b[0m     \u001b[0moutput\u001b[0m \u001b[0;34m=\u001b[0m\u001b[0;34m>\u001b[0m \u001b[0;34m\"Person_1\"\u001b[0m\u001b[0;34m\u001b[0m\u001b[0m\n\u001b[1;32m      8\u001b[0m     \"\"\"\n\u001b[0;32m----> 9\u001b[0;31m     \u001b[0;32mreturn\u001b[0m \u001b[0mmax\u001b[0m\u001b[0;34m(\u001b[0m\u001b[0mprobs\u001b[0m\u001b[0;34m.\u001b[0m\u001b[0miterkeys\u001b[0m\u001b[0;34m(\u001b[0m\u001b[0;34m)\u001b[0m\u001b[0;34m,\u001b[0m \u001b[0mkey\u001b[0m\u001b[0;34m=\u001b[0m\u001b[0;32mlambda\u001b[0m \u001b[0mk\u001b[0m\u001b[0;34m:\u001b[0m \u001b[0mprobs\u001b[0m\u001b[0;34m[\u001b[0m\u001b[0mk\u001b[0m\u001b[0;34m]\u001b[0m\u001b[0;34m)\u001b[0m\u001b[0;34m\u001b[0m\u001b[0m\n\u001b[0m\u001b[1;32m     10\u001b[0m \u001b[0;34m\u001b[0m\u001b[0m\n\u001b[1;32m     11\u001b[0m \u001b[0;34m\u001b[0m\u001b[0m\n",
        "\u001b[0;31mAttributeError\u001b[0m: 'generator' object has no attribute 'iterkeys'"
       ]
      }
     ],
     "prompt_number": 61
    },
    {
     "cell_type": "markdown",
     "metadata": {},
     "source": [
      "\uacb0\uacfc\uc801\uc73c\ub85c, misfile \ub41c \ubb38\uc11c\ub97c \ubc1c\uacac\ud588\uc744\ub54c \ud574\ub2f9\ud30c\uc77c\uc740 L \uc774 \uc2e4\uc218\ud588\uc744 \ud655\ub960\uc774 \uac00\uc7a5\ub192\ub2e4."
     ]
    },
    {
     "cell_type": "markdown",
     "metadata": {},
     "source": [
      "|            | M  | L  | C  |\n",
      "|------------|----|----|----|\n",
      "| Prior      | 0.6 | 0.3 | 0.1 |\n",
      "| Liklihood  | 0.0018 (0.6 * 0.003)   | 0.0021 (0.3 * 0.007)   | 0.001 (0.1 * 0.01)   |\n",
      "| Posterior  | 0.37   |  0.43  |  0.20  |"
     ]
    },
    {
     "cell_type": "code",
     "collapsed": false,
     "input": [],
     "language": "python",
     "metadata": {},
     "outputs": []
    }
   ],
   "metadata": {}
  }
 ]
}