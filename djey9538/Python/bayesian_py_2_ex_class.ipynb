{
 "metadata": {
  "name": "",
  "signature": "sha256:c84d7624d7685c8da823783b31624f8bab4202faef1fc939935e843bd02af85e"
 },
 "nbformat": 3,
 "nbformat_minor": 0,
 "worksheets": [
  {
   "cells": [
    {
     "cell_type": "markdown",
     "metadata": {},
     "source": [
      "\ubca0\uc774\uc9c0\uc548 \ud30c\uc774\uc36c \ud2b8\ub799 2\ud68c \uc5f0\uc2b5\ubb38\uc81c \ud480\uc774\n",
      "\n",
      "[\ubb38\uc11c \uc815\ub9ac \uc624\ub958 \ubb38\uc81c](http://nbviewer.ipython.org/github/psygrammer/bayesianPy/blob/master/ch02_ex/ch02_ex_prb.ipynb)\n",
      "\n",
      "by using Pmf"
     ]
    },
    {
     "cell_type": "code",
     "collapsed": false,
     "input": [
      "# -*- coding: utf-8 -*-\n",
      "from thinkbayes import Pmf\n",
      "\n",
      "\n",
      "class MisFiler(Pmf):\n",
      "\n",
      "    def __init__(self, hypos):\n",
      "        Pmf.__init__(self)\n",
      "        for who, prob in hypos.iteritems():\n",
      "            self.Set(who, prob)\n",
      "        self.Normalize()\n",
      "\n",
      "    def Update(self, data):\n",
      "        for who, prob in data.iteritems():\n",
      "            self.Mult(who, prob)\n",
      "        self.Normalize()\n",
      "\n",
      "\n",
      "def main():\n",
      "    hypos = {\"M\": 0.6,\n",
      "             \"L\": 0.3,\n",
      "             \"C\": 0.1}\n",
      "    pmf = MisFiler(hypos)\n",
      "    \n",
      "    # Q1 : who?\n",
      "    for who, prob in pmf.Items():\n",
      "        print who, prob\n",
      "    print \"Q1: who? = \", pmf.MaximumLikelihood()\n",
      "    print\n",
      "    \n",
      "    \n",
      "    data = {\"M\": 0.003,\n",
      "            \"L\": 0.007,\n",
      "            \"C\": 0.01}\n",
      "    pmf.Update(data)\n",
      "    \n",
      "    # Q2 : then, who?\n",
      "    for who, prob in pmf.Items():\n",
      "        print who, prob\n",
      "    print \"Q2: then, who? = \", pmf.MaximumLikelihood()\n",
      "    print\n",
      "    \n",
      "    pmf.Update(data)\n",
      "    \n",
      "    # Q3 : another misfile!!!\n",
      "    for who, prob in pmf.Items():\n",
      "        print who, prob\n",
      "    print \"Q3: again?! = \", pmf.MaximumLikelihood()\n",
      "    print\n",
      "    \n",
      "    # Q4 : 7 times misfile!\n",
      "    for _ in xrange(7):\n",
      "        pmf.Update(data)\n",
      "    for who, prob in pmf.Items():\n",
      "        print who, prob\n",
      "    print \"Q4: 7 times?! = \", pmf.MaximumLikelihood()\n",
      "\n",
      "if __name__ == '__main__':\n",
      "    main()\n"
     ],
     "language": "python",
     "metadata": {},
     "outputs": [
      {
       "output_type": "stream",
       "stream": "stdout",
       "text": [
        "C 0.1\n",
        "M 0.6\n",
        "L 0.3\n",
        "Q1: who? =  M\n",
        "\n",
        "C 0.204081632653\n",
        "M 0.367346938776\n",
        "L 0.428571428571\n",
        "Q2: then, who? =  L\n",
        "\n",
        "C 0.332225913621\n",
        "M 0.179401993355\n",
        "L 0.488372093023\n",
        "Q3: again?! =  L\n",
        "\n",
        "C 0.891918304076\n",
        "M 0.000105333767875\n",
        "L 0.107976362156\n",
        "Q4: 7 times?! =  C\n"
       ]
      }
     ],
     "prompt_number": 12
    },
    {
     "cell_type": "code",
     "collapsed": false,
     "input": [],
     "language": "python",
     "metadata": {},
     "outputs": []
    }
   ],
   "metadata": {}
  }
 ]
}