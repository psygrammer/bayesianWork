{
 "metadata": {
  "name": "",
  "signature": "sha256:ca1ea87db361f9892218f1a137926318fad10dcfd14b86f33d9b593024e3b0d7"
 },
 "nbformat": 3,
 "nbformat_minor": 0,
 "worksheets": [
  {
   "cells": [
    {
     "cell_type": "code",
     "collapsed": false,
     "input": [
      "from thinkbayes import Pmf"
     ],
     "language": "python",
     "metadata": {},
     "outputs": [],
     "prompt_number": 4
    },
    {
     "cell_type": "code",
     "collapsed": false,
     "input": [
      "pmf = Pmf()\n",
      "\n",
      "for i in xrange(1, 7):\n",
      "    pmf.Set(i, 1/6.0)\n",
      "    \n",
      "pmf.Items()"
     ],
     "language": "python",
     "metadata": {},
     "outputs": [
      {
       "metadata": {},
       "output_type": "pyout",
       "prompt_number": 13,
       "text": [
        "[(1, 0.16666666666666666),\n",
        " (2, 0.16666666666666666),\n",
        " (3, 0.16666666666666666),\n",
        " (4, 0.16666666666666666),\n",
        " (5, 0.16666666666666666),\n",
        " (6, 0.16666666666666666)]"
       ]
      }
     ],
     "prompt_number": 13
    },
    {
     "cell_type": "code",
     "collapsed": false,
     "input": [
      "words = ['bird', 'dog', 'cat']\n",
      "\n",
      "pmf = Pmf()\n",
      "\n",
      "for word in words:\n",
      "    pmf.Incr(word, 1)\n",
      "    \n",
      "print pmf.Items()\n",
      "\n",
      "for word in words:\n",
      "    pmf.Incr(word, 2)\n",
      "    \n",
      "print pmf.Items()\n",
      "\n",
      "pmf.Mult('bird', 5)\n",
      "\n",
      "print pmf.Items()\n",
      "\n",
      "print pmf.Prob('bird')"
     ],
     "language": "python",
     "metadata": {},
     "outputs": [
      {
       "output_type": "stream",
       "stream": "stdout",
       "text": [
        "[('cat', 1), ('bird', 1), ('dog', 1)]\n",
        "[('cat', 3), ('bird', 3), ('dog', 3)]\n",
        "[('cat', 3), ('bird', 15), ('dog', 3)]\n",
        "15\n"
       ]
      }
     ],
     "prompt_number": 19
    }
   ],
   "metadata": {}
  }
 ]
}