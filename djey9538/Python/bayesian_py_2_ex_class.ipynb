{
 "metadata": {
  "name": "",
  "signature": "sha256:6f7c26fb03b04f0f5c9c8d41787a3b4d85cd1d0fe1e7e5011623b16a4a11abdd"
 },
 "nbformat": 3,
 "nbformat_minor": 0,
 "worksheets": [
  {
   "cells": [
    {
     "cell_type": "markdown",
     "metadata": {},
     "source": [
      "\ubca0\uc774\uc9c0\uc548 \ud30c\uc774\uc36c \ud2b8\ub799 2\ud68c \uc5f0\uc2b5\ubb38\uc81c \ud480\uc774\n",
      "\n",
      "[\ubb38\uc11c \uc815\ub9ac \uc624\ub958 \ubb38\uc81c](http://nbviewer.ipython.org/github/psygrammer/bayesianPy/blob/master/ch02_ex/ch02_ex_prb.ipynb)\n",
      "\n",
      "by using Pmf"
     ]
    },
    {
     "cell_type": "code",
     "collapsed": false,
     "input": [
      "# -*- coding: utf-8 -*-\n",
      "from thinkbayes import Pmf\n",
      "\n",
      "\n",
      "class MisFiler(Pmf):\n",
      "\n",
      "    def __init__(self, hypos):\n",
      "        Pmf.__init__(self)\n",
      "\n",
      "        for who, prob in hypos.iteritems():\n",
      "            self.Set(who, prob)\n",
      "        self.Normalize()\n",
      "\n",
      "    def Update(self, data):\n",
      "        self.Likelihood(data)\n",
      "        self.Normalize()\n",
      "\n",
      "    def Likelihood(self, data):\n",
      "        for who, prob in data.iteritems():\n",
      "            self.Mult(who, prob)\n",
      "\n",
      "\n",
      "def main():\n",
      "    hypos = {\"M\": 0.6,\n",
      "             \"L\": 0.3,\n",
      "             \"C\": 0.1}\n",
      "\n",
      "    pmf = MisFiler(hypos)\n",
      "\n",
      "    data = {\"M\": 0.003,\n",
      "            \"L\": 0.007,\n",
      "            \"C\": 0.01}\n",
      "\n",
      "    pmf.Update(data)\n",
      "\n",
      "    for who, prob in pmf.Items():\n",
      "        print who, prob\n",
      "\n",
      "    print pmf.MaximumLikelihood()\n",
      "\n",
      "\n",
      "if __name__ == '__main__':\n",
      "    main()\n"
     ],
     "language": "python",
     "metadata": {},
     "outputs": [
      {
       "output_type": "stream",
       "stream": "stdout",
       "text": [
        "C 0.204081632653\n",
        "M 0.367346938776\n",
        "L 0.428571428571\n",
        "L\n"
       ]
      }
     ],
     "prompt_number": 2
    },
    {
     "cell_type": "code",
     "collapsed": false,
     "input": [],
     "language": "python",
     "metadata": {},
     "outputs": []
    }
   ],
   "metadata": {}
  }
 ]
}